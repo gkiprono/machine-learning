{
 "cells": [
  {
   "cell_type": "markdown",
   "id": "cfa0408b-6b4c-43d9-a504-2ddc42bc246c",
   "metadata": {},
   "source": [
    "# Programming Assignment 1a"
   ]
  },
  {
   "cell_type": "markdown",
   "id": "0ea60903",
   "metadata": {},
   "source": [
    "Authors:\n",
    "    Lewis William\n",
    "    Gabriel Kiprono\n",
    "Date:\n",
    "    September 8 2021\n",
    "Filename:\n",
    "    MLproject1.ipynp\n"
   ]
  },
  {
   "cell_type": "markdown",
   "id": "db0fc703-5074-40ce-8270-e51a4c44db2d",
   "metadata": {},
   "source": [
    "## Imports"
   ]
  },
  {
   "cell_type": "code",
   "execution_count": 15,
   "id": "37a02205-1389-40f8-b86f-32062fa016c5",
   "metadata": {},
   "outputs": [],
   "source": [
    "import numpy as np\n",
    "import matplotlib.pyplot as plt\n",
    "from sklearn.model_selection import train_test_split\n",
    "from sklearn.linear_model import LinearRegression\n",
    "from sklearn.metrics import *\n",
    "import pandas as pd"
   ]
  },
  {
   "cell_type": "markdown",
   "id": "c875b9ef-e0d0-4ea9-9359-c7db004eeeaf",
   "metadata": {},
   "source": [
    "## Read csv to df"
   ]
  },
  {
   "cell_type": "code",
   "execution_count": 2,
   "id": "07a9aef1-7683-4ca4-9384-7a9e691fe252",
   "metadata": {},
   "outputs": [],
   "source": [
    "df = pd.read_csv (\"kc_house_data.csv\")"
   ]
  },
  {
   "cell_type": "markdown",
   "id": "140e92a7",
   "metadata": {},
   "source": [
    "# Create X"
   ]
  },
  {
   "cell_type": "code",
   "execution_count": 3,
   "id": "491a16cd",
   "metadata": {
    "scrolled": true
   },
   "outputs": [],
   "source": [
    "df_X = df[\"sqft_living\"]\n",
    "df_X = df_X.values.reshape(-1,1)"
   ]
  },
  {
   "cell_type": "code",
   "execution_count": 4,
   "id": "61770cba",
   "metadata": {},
   "outputs": [
    {
     "data": {
      "text/plain": [
       "array([[1180],\n",
       "       [2570],\n",
       "       [ 770],\n",
       "       ...,\n",
       "       [1020],\n",
       "       [1600],\n",
       "       [1020]], dtype=int64)"
      ]
     },
     "execution_count": 4,
     "metadata": {},
     "output_type": "execute_result"
    }
   ],
   "source": [
    "df_X"
   ]
  },
  {
   "cell_type": "markdown",
   "id": "da32d82b",
   "metadata": {},
   "source": [
    "# Create y"
   ]
  },
  {
   "cell_type": "code",
   "execution_count": 5,
   "id": "9ee4b1c5",
   "metadata": {},
   "outputs": [
    {
     "data": {
      "text/plain": [
       "0        221900.0\n",
       "1        538000.0\n",
       "2        180000.0\n",
       "3        604000.0\n",
       "4        510000.0\n",
       "           ...   \n",
       "21608    360000.0\n",
       "21609    400000.0\n",
       "21610    402101.0\n",
       "21611    400000.0\n",
       "21612    325000.0\n",
       "Name: price, Length: 21613, dtype: float64"
      ]
     },
     "execution_count": 5,
     "metadata": {},
     "output_type": "execute_result"
    }
   ],
   "source": [
    "df_y = df[\"price\"]\n",
    "df_y"
   ]
  },
  {
   "cell_type": "markdown",
   "id": "26a5fb80-8148-409e-bc77-d407c5a16d3c",
   "metadata": {},
   "source": [
    "## Split df to df_train/df_test (80/20)"
   ]
  },
  {
   "cell_type": "code",
   "execution_count": 6,
   "id": "0bd6eacf-9136-4f31-9d3a-0f44b6e8d6c7",
   "metadata": {},
   "outputs": [],
   "source": [
    "df_X_train, df_X_test, df_y_train, df_y_test = train_test_split(df_X, df_y, test_size=0.2, random_state=30)"
   ]
  },
  {
   "cell_type": "markdown",
   "id": "9db2876b-8191-4009-9e6b-8f65446d4557",
   "metadata": {},
   "source": [
    "## Linear Regression Fitting and Prediction"
   ]
  },
  {
   "cell_type": "code",
   "execution_count": 7,
   "id": "7aafa0ab-edbe-430a-9c28-37d24da4b3c2",
   "metadata": {},
   "outputs": [],
   "source": [
    "model = LinearRegression()"
   ]
  },
  {
   "cell_type": "code",
   "execution_count": 8,
   "id": "0c56ba0b-cd46-489d-97b1-28c219acbf9f",
   "metadata": {},
   "outputs": [
    {
     "data": {
      "text/plain": [
       "LinearRegression()"
      ]
     },
     "execution_count": 8,
     "metadata": {},
     "output_type": "execute_result"
    }
   ],
   "source": [
    "model.fit(df_X_train,df_y_train)"
   ]
  },
  {
   "cell_type": "code",
   "execution_count": 9,
   "id": "0300838d-8745-4f11-ac55-d9a14b19cd4a",
   "metadata": {},
   "outputs": [
    {
     "data": {
      "text/plain": [
       "0.49388275658332614"
      ]
     },
     "execution_count": 9,
     "metadata": {},
     "output_type": "execute_result"
    }
   ],
   "source": [
    "model.score(df_X_train,df_y_train)"
   ]
  },
  {
   "cell_type": "code",
   "execution_count": 10,
   "id": "b87811c3-00ac-4b96-a9f9-93e3ca796259",
   "metadata": {},
   "outputs": [],
   "source": [
    "pred = model.predict(df_X_test)"
   ]
  },
  {
   "cell_type": "markdown",
   "id": "8c04b216",
   "metadata": {},
   "source": [
    "# Scatter plot"
   ]
  },
  {
   "cell_type": "code",
   "execution_count": 11,
   "id": "1b0fd477-14e1-4140-ae31-7edebddba467",
   "metadata": {},
   "outputs": [
    {
     "data": {
      "image/png": "[encoded data removed]",
      "text/plain": [
       "<Figure size 432x288 with 1 Axes>"
      ]
     },
     "metadata": {},
     "output_type": "display_data"
    }
   ],
   "source": [
    "plt.scatter(df_X_test, df_y_test, color='black')\n",
    "plt.plot(df_X_test, pred)\n",
    "plt.xticks(())\n",
    "plt.yticks(())\n",
    "plt.show()"
   ]
  },
  {
   "cell_type": "markdown",
   "id": "57c4d108",
   "metadata": {},
   "source": [
    "# #Coefficients of the Regression"
   ]
  },
  {
   "cell_type": "code",
   "execution_count": 13,
   "id": "c98c36e9-8704-4175-a164-3ee4671f2fea",
   "metadata": {},
   "outputs": [
    {
     "name": "stdout",
     "output_type": "stream",
     "text": [
      "Coefficients: \n",
      " [282.53959684]\n"
     ]
    }
   ],
   "source": [
    "print('Coefficients: \\n', model.coef_)"
   ]
  },
  {
   "cell_type": "markdown",
   "id": "02a62fbf",
   "metadata": {},
   "source": [
    "# Mean Squared Error"
   ]
  },
  {
   "cell_type": "code",
   "execution_count": 16,
   "id": "80d5dd0b-65bd-430e-90a7-13fffce7534c",
   "metadata": {},
   "outputs": [
    {
     "name": "stdout",
     "output_type": "stream",
     "text": [
      "Mean squared error: \n",
      "\n"
     ]
    },
    {
     "data": {
      "text/plain": [
       "351712179205.5477"
      ]
     },
     "execution_count": 16,
     "metadata": {},
     "output_type": "execute_result"
    }
   ],
   "source": [
    "print('Mean squared error: \\n')\n",
    "mean_squared_error(df_X_test, pred)"
   ]
  },
  {
   "cell_type": "code",
   "execution_count": null,
   "id": "67d6ec6c",
   "metadata": {},
   "outputs": [],
   "source": []
  }
 ],
 "metadata": {
  "kernelspec": {
   "display_name": "Python 3 (ipykernel)",
   "language": "python",
   "name": "python3"
  },
  "language_info": {
   "codemirror_mode": {
    "name": "ipython",
    "version": 3
   },
   "file_extension": ".py",
   "mimetype": "text/x-python",
   "name": "python",
   "nbconvert_exporter": "python",
   "pygments_lexer": "ipython3",
   "version": "3.9.6"
  },
  "toc-autonumbering": false,
  "toc-showcode": false,
  "toc-showmarkdowntxt": true,
  "toc-showtags": false
 },
 "nbformat": 4,
 "nbformat_minor": 5
}
